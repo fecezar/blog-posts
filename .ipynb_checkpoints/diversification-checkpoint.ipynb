{
 "cells": [
  {
   "cell_type": "code",
   "execution_count": 12,
   "metadata": {
    "ExecuteTime": {
     "end_time": "2021-02-08T14:32:32.508511Z",
     "start_time": "2021-02-08T14:32:32.494957Z"
    }
   },
   "outputs": [],
   "source": [
    "import numpy as np\n",
    "import pandas as pd\n",
    "import matplotlib.pyplot as plt\n",
    "plt.style.use(\"seaborn-darkgrid\")"
   ]
  },
  {
   "cell_type": "markdown",
   "metadata": {},
   "source": [
    "## 2 Assets Case"
   ]
  },
  {
   "cell_type": "code",
   "execution_count": null,
   "metadata": {
    "ExecuteTime": {
     "end_time": "2021-02-08T14:18:23.444786Z",
     "start_time": "2021-02-08T14:18:23.416429Z"
    }
   },
   "outputs": [],
   "source": [
    "### characteristics of each asset\n",
    "game_step = {'expected_return': 0.25, 'volatility': 0.15}\n",
    "nukia = {'expected_return': 0.15, 'volatility': 0.07}\n",
    "correlation = 0.3\n",
    "\n",
    "### creates list of 21 diferent ratio combinations \n",
    "allocation_strategies = [[w, 1-w] for w in np.linspace(0, 1, 21)]\n",
    "\n",
    "# calculates the portfolio volatility for a given allocation strategy and correlation\n",
    "def calculate_portfolio_vol(weight_a, weight_b, correlation):\n",
    "    vol_a = game_step['volatility']\n",
    "    vol_b = nukia['volatility']\n",
    "    portf_variance_formula =  ( \n",
    "        ( weight_a**2 ) * (vol_a**2)\n",
    "        + ( weight_b**2 ) * (vol_b**2 )\n",
    "        + 2*correlation*weight_a*weight_b*vol_a*vol_b\n",
    "                              )\n",
    "                              \n",
    "    portf_volatility = portf_variance_formula**(1/2)\n",
    "    return portf_volatility\n",
    "\n",
    "def calculate_portfolio_returns(weight_a, weight_b):\n",
    "    ret_a = weight_a * game_step['expected_return']\n",
    "    ret_b = weight_b * nukia['expected_return']\n",
    "    combined_return = ret_a + ret_b\n",
    "    return combined_return\n",
    "\n",
    "\n",
    "\n",
    "\n",
    "\n",
    "\n",
    "### loops through every allocation strategy and calculates its combined return\n",
    "import pandas as pd\n",
    "def test_allocation(allocation_strategies, correlation):\n",
    "    d = {}\n",
    "    portfolio_returns = []\n",
    "    portfolio_volatility = []\n",
    "    portfolio_sharpe = []\n",
    "    for allocation in allocation_strategies:\n",
    "        weight_a = allocation[0]\n",
    "        weight_b = allocation[1]\n",
    "        \n",
    "        \n",
    "        combined_return = calculate_portfolio_returns(\n",
    "            weight_a, \n",
    "            weight_b)\n",
    "        \n",
    "        portfolio_returns.append(combined_return)\n",
    "        \n",
    "        combined_vol = calculate_portfolio_vol(\n",
    "            weight_a, \n",
    "            weight_b, \n",
    "            correlation)\n",
    "        \n",
    "        portfolio_volatility.append(combined_vol)\n",
    "        \n",
    "        portfolio_sharpe.append(combined_return/combined_vol)\n",
    "    \n",
    "    d['returns'] = portfolio_returns\n",
    "    d['volatility'] = portfolio_volatility\n",
    "    d['sharpe'] = portfolio_sharpe\n",
    "    return pd.DataFrame(d)\n",
    "\n",
    "\n",
    "\n",
    "\n",
    "\n",
    "# creates labels that are more readable (to use in our charts)\n",
    "alloc_labels = [\n",
    "    (f'{int(i[0]*100)}-{int(i[-1]*100)}') for i in allocation_strategies\n",
    "] \n",
    "\n"
   ]
  },
  {
   "cell_type": "code",
   "execution_count": null,
   "metadata": {
    "ExecuteTime": {
     "end_time": "2021-02-08T14:18:23.508727Z",
     "start_time": "2021-02-08T14:18:23.448788Z"
    }
   },
   "outputs": [],
   "source": [
    "portfolios_df = test_allocation(allocation_strategies, correlation)\n",
    "portfolios_df.head()"
   ]
  },
  {
   "cell_type": "code",
   "execution_count": null,
   "metadata": {
    "ExecuteTime": {
     "end_time": "2021-02-08T14:18:24.076055Z",
     "start_time": "2021-02-08T14:18:23.511729Z"
    }
   },
   "outputs": [],
   "source": [
    "\n",
    "# plots figure\n",
    "f = plt.figure(figsize=(10, 6))\n",
    "plt.plot(alloc_labels, \n",
    "         portfolios_df['returns'], \n",
    "         linestyle ='dashed', color='blue'\n",
    "        )\n",
    "plt.title('Portolio Returns', fontsize=20)\n",
    "plt.tick_params(axis ='x', labelcolor = 'black', rotation=40,)\n",
    "plt.ylabel('Returns', color = 'black') \n",
    "plt.tick_params(axis ='y', labelcolor = 'black')\n",
    "plt.tick_params(axis ='x', labelcolor = 'black', rotation=40,)\n",
    "plt.xlabel('Allocation (Nukia% - GameStep%)',  color = 'black')\n",
    "plt.show()\n",
    "\n",
    "\n",
    "### plots the portfolio volatility curve\n",
    "f = plt.figure(figsize=(10, 6))\n",
    "plt.plot(alloc_labels, \n",
    "         portfolios_df['volatility'], \n",
    "         linestyle ='dashed', color='red')\n",
    "plt.title('Portolio Volatility', fontsize=20)\n",
    "plt.tick_params(axis ='x', labelcolor = 'black', rotation=45)         \n",
    "plt.ylabel('Volatility', color = 'black') \n",
    "plt.tick_params(axis ='y', labelcolor = 'black')\n",
    "plt.xlabel('Allocation (Nukia% - GameStep%)',  color = 'black')\n",
    "plt.show()\n"
   ]
  },
  {
   "cell_type": "code",
   "execution_count": null,
   "metadata": {
    "ExecuteTime": {
     "end_time": "2021-02-08T14:18:27.121056Z",
     "start_time": "2021-02-08T14:18:24.079056Z"
    }
   },
   "outputs": [],
   "source": [
    "\n",
    "\n",
    "# creates figure and subplots\n",
    "fig, axs = plt.subplots(10, 10, \n",
    "                        figsize=(10, 10), \n",
    "                        sharex=True)\n",
    "ax1 = plt.subplot2grid(shape=(10, 7), \n",
    "                       loc=(0,0), \n",
    "                       colspan=10, \n",
    "                       rowspan=7)\n",
    "ax3 = plt.subplot2grid(shape=(10, 3), \n",
    "                       loc=(7,0), \n",
    "                       colspan=10, \n",
    "                       rowspan=3)    \n",
    "\n",
    "\n",
    "### plots the portfolio returns curve\n",
    "color = 'tab:blue'\n",
    "ax1.set_ylabel('Returns', color = color)  \n",
    "ax1.plot(alloc_labels, \n",
    "         portfolios_df['returns'], \n",
    "         color = color,)  \n",
    "ax1.set_ylabel('Returns', \n",
    "               color = color) \n",
    "plt.legend()\n",
    "ax1.tick_params(axis ='y', \n",
    "                labelcolor = color)\n",
    "ax1.tick_params(axis ='x', \n",
    "                labelcolor = 'white')\n",
    "\n",
    "\n",
    "# Adding Twin Axes to plot portfolio volatility on the same subplot as ax1 \n",
    "ax2 = ax1.twinx()  \n",
    "\n",
    "### plots the portfolio returns curve\n",
    "color = 'tab:green'\n",
    "ax2.set_ylabel('Volatility', \n",
    "               color = color)  \n",
    "ax2.plot(alloc_labels, \n",
    "         portfolios_df['volatility'], color = color, \n",
    "        )  \n",
    "ax2.tick_params(axis ='y', \n",
    "                labelcolor = color)  \n",
    "  \n",
    "plt.legend()\n",
    "# Adding title \n",
    "plt.title('Risk/Return for different allocation strategies', \n",
    "          fontweight =\"bold\", fontsize=20)  \n",
    "  \n",
    "\n",
    "ax3.plot(alloc_labels, \n",
    "            portfolios_df['sharpe'], \n",
    "            color='gray',\n",
    "           label='Sharpe Ratio',\n",
    "         \n",
    "        )\n",
    "ax3.set_ylabel('Sharpe Ratio', color = 'black') \n",
    "ax3.tick_params(axis ='y', labelcolor = 'black')\n",
    "ax3.tick_params(axis ='x', labelcolor = 'gray', rotation=45,)\n",
    "ax3.set_xlabel('Allocation (Nukia% - GameStep%)')  \n",
    "plt.legend()\n",
    "plt.show()\n"
   ]
  },
  {
   "cell_type": "code",
   "execution_count": null,
   "metadata": {
    "ExecuteTime": {
     "end_time": "2021-02-08T14:18:27.349815Z",
     "start_time": "2021-02-08T14:18:27.121056Z"
    }
   },
   "outputs": [],
   "source": [
    "\n",
    "\n",
    "plt.figure(figsize=(10, 6))\n",
    "plt.plot(portfolios_df['volatility'],\n",
    "         portfolios_df['returns'], color='purple'\n",
    "        )\n",
    "\n",
    "plt.title('Portfolio Curve', fontsize=20)\n",
    "plt.xlabel('Volatility')\n",
    "plt.ylabel('Return')\n",
    "\n",
    "plt.scatter(nukia['volatility'], nukia['expected_return'], color='red')\n",
    "plt.scatter(nukia['volatility'], 0.1665\n",
    "            , color='blue')\n",
    "\n",
    "\n",
    "plt.show()"
   ]
  },
  {
   "cell_type": "code",
   "execution_count": null,
   "metadata": {
    "ExecuteTime": {
     "end_time": "2021-02-08T14:18:29.813656Z",
     "start_time": "2021-02-08T14:18:27.349815Z"
    }
   },
   "outputs": [],
   "source": [
    "\n",
    "# creates figure and subplots\n",
    "fig, axs = plt.subplots(10, 10, \n",
    "                        figsize=(10, 10), \n",
    "                        sharex=False)\n",
    "ax1 = plt.subplot2grid(shape=(10, 7), \n",
    "                       loc=(0,0), \n",
    "                       colspan=10, \n",
    "                       rowspan=7)\n",
    "ax2 = plt.subplot2grid(shape=(10, 3), \n",
    "                       loc=(7,0), \n",
    "                       colspan=10, \n",
    "                       rowspan=3)    \n",
    "\n",
    "\n",
    "### plots the portfolio returns curve\n",
    "color = 'tab:blue'\n",
    "ax1.set_ylabel('Returns', color = color)  \n",
    "ax1.plot(portfolios_df['volatility'],\n",
    "         portfolios_df['returns'], color='purple'\n",
    "        )  \n",
    "ax1.set_ylabel('returns', \n",
    "               color = color) \n",
    "ax1.set_xlabel('volatility', \n",
    "               color = color) \n",
    "plt.legend()\n",
    "ax1.tick_params(axis ='y', \n",
    "                labelcolor = color)\n",
    "ax1.tick_params(axis ='x', \n",
    "                labelcolor = 'white')\n",
    "\n",
    "\n",
    "\n",
    "ax1.set_ylim([0, 0.3])\n",
    "\n",
    "ax1.set_xlim([0, 0.15])\n",
    "ax1.legend([0, 0.15])\n",
    "# Adding title \n",
    "plt.title('Risk/Return for different allocation strategies', \n",
    "          fontweight =\"bold\", fontsize=20)  \n",
    "  \n",
    "\n",
    "ax2.plot(portfolios_df['volatility'], \n",
    "            portfolios_df['sharpe'], \n",
    "            color='gray',\n",
    "           label='Sharpe Ratio',\n",
    "         \n",
    "        )\n",
    "ax2.set_ylabel('Sharpe Ratio', color = 'black') \n",
    "ax2.tick_params(axis ='y', labelcolor = 'black')\n",
    "ax2.tick_params(axis ='x', labelcolor = 'gray', rotation=45,)\n",
    "ax2.set_xlabel('Allocation (Nukia% - GameStep%)')  \n",
    "ax2.set_ylim([0, 2.5])\n",
    "\n",
    "ax2.set_xlim([0, 0.15])\n",
    "plt.legend()\n",
    "plt.show()"
   ]
  },
  {
   "cell_type": "code",
   "execution_count": null,
   "metadata": {
    "ExecuteTime": {
     "end_time": "2021-02-08T14:18:30.092480Z",
     "start_time": "2021-02-08T14:18:29.818655Z"
    }
   },
   "outputs": [],
   "source": [
    "plt.figure(figsize=(10, 6))\n",
    "for corr in np.linspace(0.1, 1, 10):\n",
    "    corr_df = test_allocation(allocation_strategies, corr)\n",
    "    \n",
    "    plt.plot(corr_df['volatility'],\n",
    "         corr_df['returns'], label=round(corr, 1)\n",
    "        )\n",
    "\n",
    "plt.title('Portfolio Curves for Different Correlation Levels', fontsize=20)\n",
    "plt.xlabel('volatility')\n",
    "plt.ylabel('return')\n",
    "plt.legend()\n",
    "plt.show()"
   ]
  },
  {
   "cell_type": "code",
   "execution_count": null,
   "metadata": {
    "ExecuteTime": {
     "end_time": "2021-02-08T14:18:30.458696Z",
     "start_time": "2021-02-08T14:18:30.095230Z"
    }
   },
   "outputs": [],
   "source": [
    "plt.figure(figsize=(10, 6))\n",
    "for corr in np.linspace(0.1, 1, 10):\n",
    "    corr_df = test_allocation(allocation_strategies, corr)\n",
    "    \n",
    "    plt.plot(alloc_labels,\n",
    "         corr_df['sharpe'], label=round(corr, 1)\n",
    "        )\n",
    "\n",
    "plt.title('Sharpe Ratio for Different Correlation Levels', fontsize=20)\n",
    "plt.tick_params(axis='x', rotation=45)\n",
    "plt.xlabel('Allocation (Nukia% - GameStep%)')\n",
    "plt.ylabel('Sharpe Ratio')\n",
    "plt.legend()\n",
    "plt.show()"
   ]
  },
  {
   "cell_type": "markdown",
   "metadata": {},
   "source": [
    "## Multi Asset case"
   ]
  },
  {
   "cell_type": "code",
   "execution_count": 3,
   "metadata": {
    "ExecuteTime": {
     "end_time": "2021-02-08T14:32:01.864288Z",
     "start_time": "2021-02-08T14:32:00.352432Z"
    }
   },
   "outputs": [
    {
     "data": {
      "text/html": [
       "<div>\n",
       "<style scoped>\n",
       "    .dataframe tbody tr th:only-of-type {\n",
       "        vertical-align: middle;\n",
       "    }\n",
       "\n",
       "    .dataframe tbody tr th {\n",
       "        vertical-align: top;\n",
       "    }\n",
       "\n",
       "    .dataframe thead th {\n",
       "        text-align: right;\n",
       "    }\n",
       "</style>\n",
       "<table border=\"1\" class=\"dataframe\">\n",
       "  <thead>\n",
       "    <tr style=\"text-align: right;\">\n",
       "      <th></th>\n",
       "      <th>spx</th>\n",
       "      <th>dax</th>\n",
       "      <th>ftse</th>\n",
       "      <th>nikkei</th>\n",
       "    </tr>\n",
       "    <tr>\n",
       "      <th>date</th>\n",
       "      <th></th>\n",
       "      <th></th>\n",
       "      <th></th>\n",
       "      <th></th>\n",
       "    </tr>\n",
       "  </thead>\n",
       "  <tbody>\n",
       "    <tr>\n",
       "      <th>1994-07</th>\n",
       "      <td>469.90</td>\n",
       "      <td>2224.95</td>\n",
       "      <td>3445.98</td>\n",
       "      <td>18124.01</td>\n",
       "    </tr>\n",
       "    <tr>\n",
       "      <th>1994-10</th>\n",
       "      <td>475.27</td>\n",
       "      <td>2225.00</td>\n",
       "      <td>3440.58</td>\n",
       "      <td>18443.44</td>\n",
       "    </tr>\n",
       "    <tr>\n",
       "      <th>1994-11</th>\n",
       "      <td>474.13</td>\n",
       "      <td>2228.10</td>\n",
       "      <td>3413.77</td>\n",
       "      <td>18485.25</td>\n",
       "    </tr>\n",
       "    <tr>\n",
       "      <th>1994-12</th>\n",
       "      <td>474.17</td>\n",
       "      <td>2182.06</td>\n",
       "      <td>3372.02</td>\n",
       "      <td>18793.88</td>\n",
       "    </tr>\n",
       "    <tr>\n",
       "      <th>1994-01</th>\n",
       "      <td>472.47</td>\n",
       "      <td>2142.37</td>\n",
       "      <td>3360.01</td>\n",
       "      <td>18577.26</td>\n",
       "    </tr>\n",
       "  </tbody>\n",
       "</table>\n",
       "</div>"
      ],
      "text/plain": [
       "            spx      dax     ftse    nikkei\n",
       "date                                       \n",
       "1994-07  469.90  2224.95  3445.98  18124.01\n",
       "1994-10  475.27  2225.00  3440.58  18443.44\n",
       "1994-11  474.13  2228.10  3413.77  18485.25\n",
       "1994-12  474.17  2182.06  3372.02  18793.88\n",
       "1994-01  472.47  2142.37  3360.01  18577.26"
      ]
     },
     "execution_count": 3,
     "metadata": {},
     "output_type": "execute_result"
    }
   ],
   "source": [
    "# https://www.kaggle.com/regaipkurt/financial-markets\n",
    "\n",
    "import pandas as pd\n",
    "\n",
    "# Financial Times Stock Exchange(FTSE), NIKKEI(Japan), S&P, and DAX(German)\n",
    "df = pd.read_csv('data/archive/Index2018.csv', index_col='date')\n",
    "df.index = pd.to_datetime(df.index).to_period('M')\n",
    "df.head()"
   ]
  },
  {
   "cell_type": "code",
   "execution_count": 4,
   "metadata": {
    "ExecuteTime": {
     "end_time": "2021-02-08T14:32:04.301427Z",
     "start_time": "2021-02-08T14:32:04.263363Z"
    }
   },
   "outputs": [
    {
     "data": {
      "text/html": [
       "<div>\n",
       "<style scoped>\n",
       "    .dataframe tbody tr th:only-of-type {\n",
       "        vertical-align: middle;\n",
       "    }\n",
       "\n",
       "    .dataframe tbody tr th {\n",
       "        vertical-align: top;\n",
       "    }\n",
       "\n",
       "    .dataframe thead th {\n",
       "        text-align: right;\n",
       "    }\n",
       "</style>\n",
       "<table border=\"1\" class=\"dataframe\">\n",
       "  <thead>\n",
       "    <tr style=\"text-align: right;\">\n",
       "      <th></th>\n",
       "      <th>spx</th>\n",
       "      <th>dax</th>\n",
       "      <th>ftse</th>\n",
       "      <th>nikkei</th>\n",
       "    </tr>\n",
       "    <tr>\n",
       "      <th>date</th>\n",
       "      <th></th>\n",
       "      <th></th>\n",
       "      <th></th>\n",
       "      <th></th>\n",
       "    </tr>\n",
       "  </thead>\n",
       "  <tbody>\n",
       "    <tr>\n",
       "      <th>1994-10</th>\n",
       "      <td>0.011428</td>\n",
       "      <td>0.000022</td>\n",
       "      <td>-0.001567</td>\n",
       "      <td>0.017625</td>\n",
       "    </tr>\n",
       "    <tr>\n",
       "      <th>1994-11</th>\n",
       "      <td>-0.002399</td>\n",
       "      <td>0.001393</td>\n",
       "      <td>-0.007792</td>\n",
       "      <td>0.002267</td>\n",
       "    </tr>\n",
       "    <tr>\n",
       "      <th>1994-12</th>\n",
       "      <td>0.000084</td>\n",
       "      <td>-0.020663</td>\n",
       "      <td>-0.012230</td>\n",
       "      <td>0.016696</td>\n",
       "    </tr>\n",
       "    <tr>\n",
       "      <th>1994-01</th>\n",
       "      <td>-0.003585</td>\n",
       "      <td>-0.018189</td>\n",
       "      <td>-0.003562</td>\n",
       "      <td>-0.011526</td>\n",
       "    </tr>\n",
       "    <tr>\n",
       "      <th>1994-01</th>\n",
       "      <td>0.005164</td>\n",
       "      <td>0.004052</td>\n",
       "      <td>0.012068</td>\n",
       "      <td>0.021340</td>\n",
       "    </tr>\n",
       "  </tbody>\n",
       "</table>\n",
       "</div>"
      ],
      "text/plain": [
       "              spx       dax      ftse    nikkei\n",
       "date                                           \n",
       "1994-10  0.011428  0.000022 -0.001567  0.017625\n",
       "1994-11 -0.002399  0.001393 -0.007792  0.002267\n",
       "1994-12  0.000084 -0.020663 -0.012230  0.016696\n",
       "1994-01 -0.003585 -0.018189 -0.003562 -0.011526\n",
       "1994-01  0.005164  0.004052  0.012068  0.021340"
      ]
     },
     "execution_count": 4,
     "metadata": {},
     "output_type": "execute_result"
    }
   ],
   "source": [
    "df = df.pct_change()\n",
    "df.dropna(inplace=True)\n",
    "df.head()"
   ]
  },
  {
   "cell_type": "code",
   "execution_count": 5,
   "metadata": {
    "ExecuteTime": {
     "end_time": "2021-02-08T14:32:13.249440Z",
     "start_time": "2021-02-08T14:32:13.224411Z"
    }
   },
   "outputs": [
    {
     "data": {
      "text/html": [
       "<div>\n",
       "<style scoped>\n",
       "    .dataframe tbody tr th:only-of-type {\n",
       "        vertical-align: middle;\n",
       "    }\n",
       "\n",
       "    .dataframe tbody tr th {\n",
       "        vertical-align: top;\n",
       "    }\n",
       "\n",
       "    .dataframe thead th {\n",
       "        text-align: right;\n",
       "    }\n",
       "</style>\n",
       "<table border=\"1\" class=\"dataframe\">\n",
       "  <thead>\n",
       "    <tr style=\"text-align: right;\">\n",
       "      <th></th>\n",
       "      <th>spx</th>\n",
       "      <th>dax</th>\n",
       "      <th>ftse</th>\n",
       "      <th>nikkei</th>\n",
       "    </tr>\n",
       "  </thead>\n",
       "  <tbody>\n",
       "    <tr>\n",
       "      <th>spx</th>\n",
       "      <td>0.000128</td>\n",
       "      <td>0.000091</td>\n",
       "      <td>0.000064</td>\n",
       "      <td>0.000019</td>\n",
       "    </tr>\n",
       "    <tr>\n",
       "      <th>dax</th>\n",
       "      <td>0.000091</td>\n",
       "      <td>0.000206</td>\n",
       "      <td>0.000127</td>\n",
       "      <td>0.000050</td>\n",
       "    </tr>\n",
       "    <tr>\n",
       "      <th>ftse</th>\n",
       "      <td>0.000064</td>\n",
       "      <td>0.000127</td>\n",
       "      <td>0.000125</td>\n",
       "      <td>0.000045</td>\n",
       "    </tr>\n",
       "    <tr>\n",
       "      <th>nikkei</th>\n",
       "      <td>0.000019</td>\n",
       "      <td>0.000050</td>\n",
       "      <td>0.000045</td>\n",
       "      <td>0.000211</td>\n",
       "    </tr>\n",
       "  </tbody>\n",
       "</table>\n",
       "</div>"
      ],
      "text/plain": [
       "             spx       dax      ftse    nikkei\n",
       "spx     0.000128  0.000091  0.000064  0.000019\n",
       "dax     0.000091  0.000206  0.000127  0.000050\n",
       "ftse    0.000064  0.000127  0.000125  0.000045\n",
       "nikkei  0.000019  0.000050  0.000045  0.000211"
      ]
     },
     "execution_count": 5,
     "metadata": {},
     "output_type": "execute_result"
    }
   ],
   "source": [
    "cov = df.cov()\n",
    "cov"
   ]
  },
  {
   "cell_type": "code",
   "execution_count": 6,
   "metadata": {
    "ExecuteTime": {
     "end_time": "2021-02-08T14:32:16.605527Z",
     "start_time": "2021-02-08T14:32:16.580746Z"
    }
   },
   "outputs": [
    {
     "data": {
      "text/plain": [
       "spx       0.003459\n",
       "dax       0.003433\n",
       "ftse      0.001533\n",
       "nikkei    0.000508\n",
       "dtype: float64"
      ]
     },
     "execution_count": 6,
     "metadata": {},
     "output_type": "execute_result"
    }
   ],
   "source": [
    "def annualize_rets(r, periods_per_year):\n",
    "    \"\"\"\n",
    "    Annualizes a set of returns\n",
    "    \"\"\"\n",
    "    compounded_growth = (1+r).prod()\n",
    "    n_periods = r.shape[0]\n",
    "    return compounded_growth**(periods_per_year/n_periods)-1\n",
    "\n",
    "er = annualize_rets(df, 12)\n",
    "er"
   ]
  },
  {
   "cell_type": "code",
   "execution_count": 7,
   "metadata": {
    "ExecuteTime": {
     "end_time": "2021-02-08T14:32:19.087509Z",
     "start_time": "2021-02-08T14:32:19.077399Z"
    }
   },
   "outputs": [],
   "source": [
    "def portfolio_return(weights, returns):\n",
    "    \"\"\"\n",
    "    Computes the return on a portfolio from constituent returns and weights\n",
    "    weights are a numpy array or Nx1 matrix and returns are a numpy array or Nx1 matrix\n",
    "    \"\"\"\n",
    "    return weights.T @ returns"
   ]
  },
  {
   "cell_type": "code",
   "execution_count": 8,
   "metadata": {
    "ExecuteTime": {
     "end_time": "2021-02-08T14:32:19.456427Z",
     "start_time": "2021-02-08T14:32:19.447913Z"
    }
   },
   "outputs": [],
   "source": [
    "def portfolio_vol(weights, covmat):\n",
    "    \"\"\"\n",
    "    Computes the vol of a portfolio from a covariance matrix and constituent weights\n",
    "    weights are a numpy array or N x 1 maxtrix and covmat is an N x N matrix\n",
    "    \"\"\"\n",
    "    return (weights.T @ covmat @ weights)**0.5"
   ]
  },
  {
   "cell_type": "code",
   "execution_count": 9,
   "metadata": {
    "ExecuteTime": {
     "end_time": "2021-02-08T14:32:20.524093Z",
     "start_time": "2021-02-08T14:32:20.227569Z"
    }
   },
   "outputs": [],
   "source": [
    "from scipy.optimize import minimize\n",
    "\n",
    "def minimize_vol(target_return, er, cov):\n",
    "    \"\"\"\n",
    "    Returns the optimal weights that achieve the target return\n",
    "    given a set of expected returns and a covariance matrix\n",
    "    \"\"\"\n",
    "    n = er.shape[0]\n",
    "    init_guess = np.repeat(1/n, n)\n",
    "    bounds = ((0.0, 1.0),) * n # an N-tuple of 2-tuples!\n",
    "    # construct the constraints\n",
    "    weights_sum_to_1 = {'type': 'eq',\n",
    "                        'fun': lambda weights: np.sum(weights) - 1\n",
    "    }\n",
    "    return_is_target = {'type': 'eq',\n",
    "                        'args': (er,),\n",
    "                        'fun': lambda weights, er: target_return - portfolio_return(weights,er)\n",
    "    }\n",
    "    weights = minimize(portfolio_vol, init_guess,\n",
    "                       args=(cov,), method='SLSQP',\n",
    "                       options={'disp': False},\n",
    "                       constraints=(weights_sum_to_1,return_is_target),\n",
    "                       bounds=bounds)\n",
    "    return weights.x\n",
    "\n",
    "def optimal_weights(n_points, er, cov):\n",
    "    \"\"\"\n",
    "    \"\"\"\n",
    "    target_rs = np.linspace(er.min(), er.max(), n_points)\n",
    "    weights = [minimize_vol(target_return, er, cov) for target_return in target_rs]\n",
    "    return weights"
   ]
  },
  {
   "cell_type": "code",
   "execution_count": 10,
   "metadata": {
    "ExecuteTime": {
     "end_time": "2021-02-08T14:32:23.209014Z",
     "start_time": "2021-02-08T14:32:23.198486Z"
    }
   },
   "outputs": [],
   "source": [
    "def plot_ef(n_points, er, cov):\n",
    "    \"\"\"\n",
    "    Plots the multi-asset efficient frontier\n",
    "    \"\"\"\n",
    "    weights = optimal_weights(n_points, er, cov) \n",
    "    rets = [portfolio_return(w, er) for w in weights]\n",
    "    vols = [portfolio_vol(w, cov) for w in weights]\n",
    "    ef = pd.DataFrame({\n",
    "        \"Returns\": rets, \n",
    "        \"Volatility\": vols\n",
    "    })\n",
    "    ef.plot.line(x=\"Volatility\", y=\"Returns\", style='.-')\n",
    "    plt.show()\n",
    "    #####\n",
    "    plt.plot(ef['Volatility'], ef['Returns']/ef['Volatility'])\n",
    "    plt.show()\n",
    "    "
   ]
  },
  {
   "cell_type": "code",
   "execution_count": 13,
   "metadata": {
    "ExecuteTime": {
     "end_time": "2021-02-08T14:32:37.943360Z",
     "start_time": "2021-02-08T14:32:36.952382Z"
    }
   },
   "outputs": [
    {
     "data": {
      "image/png": "[encoded data removed]",
      "text/plain": [
       "<Figure size 432x288 with 1 Axes>"
      ]
     },
     "metadata": {},
     "output_type": "display_data"
    },
    {
     "data": {
      "image/png": "[encoded data removed]",
      "text/plain": [
       "<Figure size 432x288 with 1 Axes>"
      ]
     },
     "metadata": {},
     "output_type": "display_data"
    }
   ],
   "source": [
    "plot_ef(50, er, cov)"
   ]
  },
  {
   "cell_type": "code",
   "execution_count": 18,
   "metadata": {
    "ExecuteTime": {
     "end_time": "2021-02-08T14:41:06.036400Z",
     "start_time": "2021-02-08T14:41:06.026456Z"
    }
   },
   "outputs": [],
   "source": [
    "\n",
    "def sharpe_ratio(vol, r, riskfree_rate):\n",
    "    \"\"\"\n",
    "    Computes the annualized sharpe ratio of a set of returns\n",
    "    \"\"\"\n",
    "    # convert the annual riskfree rate to per period\n",
    "    excess_ret = r - riskfree_rate\n",
    "\n",
    "    return excess_ret/vol\n"
   ]
  },
  {
   "cell_type": "code",
   "execution_count": 26,
   "metadata": {
    "ExecuteTime": {
     "end_time": "2021-02-08T14:45:04.696819Z",
     "start_time": "2021-02-08T14:45:03.887845Z"
    }
   },
   "outputs": [
    {
     "name": "stderr",
     "output_type": "stream",
     "text": [
      "No handles with labels found to put in legend.\n"
     ]
    },
    {
     "data": {
      "image/png": "[encoded data removed]",
      "text/plain": [
       "<Figure size 720x720 with 2 Axes>"
      ]
     },
     "metadata": {},
     "output_type": "display_data"
    }
   ],
   "source": [
    "\n",
    "weights = optimal_weights(40, er, cov) \n",
    "rets = [portfolio_return(w, er) for w in weights]\n",
    "vols = [portfolio_vol(w, cov) for w in weights]\n",
    "sr = [r/v for r, v in zip(rets, vols)]\n",
    "\n",
    "df_porftolio = pd.DataFrame({\n",
    "    'Returns': rets,\n",
    "    'Volatility': vols,\n",
    "    'Sharpe': sr\n",
    "})\n",
    "\n",
    "# creates figure and subplots\n",
    "fig, ax = plt.subplots(figsize=(10, 10))\n",
    "\n",
    "\n",
    "\n",
    "\n",
    "### plots the portfolio returns curve\n",
    "color = 'tab:blue'\n",
    "ax.set_ylabel('Returns', color = color)  \n",
    "ax.scatter(df_porftolio['Volatility'].values, \n",
    "         df_porftolio['Returns'].values, \n",
    "         color = color,)\n",
    "ax.set_ylabel('Returns', \n",
    "               color = color) \n",
    "\n",
    "ax.tick_params(axis ='y', \n",
    "                labelcolor = color)\n",
    "ax.tick_params(axis ='x', \n",
    "                labelcolor = 'black')\n",
    "\n",
    "\n",
    "# Adding Twin Axes to plot portfolio volatility on the same subplot as ax1 \n",
    "ax2 = ax.twinx()  \n",
    "\n",
    "### plots the portfolio returns curve\n",
    "color = 'tab:green'\n",
    "ax2.set_ylabel('Volatility', \n",
    "               color = color)  \n",
    "ax2.scatter(vols, \n",
    "         sr, color = color, \n",
    "        )  \n",
    "ax2.tick_params(axis ='y', \n",
    "                labelcolor = color)  \n",
    "ax2.set_ylabel('Sharpe Ratio', color = color) \n",
    "  \n",
    "plt.legend()\n",
    "# Adding title \n",
    "plt.title('Risk/Return for different allocation strategies', \n",
    "          fontweight =\"bold\", fontsize=20)  \n",
    "  \n",
    "plt.show()\n"
   ]
  },
  {
   "cell_type": "code",
   "execution_count": null,
   "metadata": {},
   "outputs": [],
   "source": []
  }
 ],
 "metadata": {
  "kernelspec": {
   "display_name": "Python [conda env:learn-env] *",
   "language": "python",
   "name": "conda-env-learn-env-py"
  },
  "language_info": {
   "codemirror_mode": {
    "name": "ipython",
    "version": 3
   },
   "file_extension": ".py",
   "mimetype": "text/x-python",
   "name": "python",
   "nbconvert_exporter": "python",
   "pygments_lexer": "ipython3",
   "version": "3.6.9"
  },
  "toc": {
   "base_numbering": 1,
   "nav_menu": {},
   "number_sections": true,
   "sideBar": true,
   "skip_h1_title": false,
   "title_cell": "Table of Contents",
   "title_sidebar": "Contents",
   "toc_cell": false,
   "toc_position": {},
   "toc_section_display": true,
   "toc_window_display": false
  },
  "varInspector": {
   "cols": {
    "lenName": 16,
    "lenType": 16,
    "lenVar": 40
   },
   "kernels_config": {
    "python": {
     "delete_cmd_postfix": "",
     "delete_cmd_prefix": "del ",
     "library": "var_list.py",
     "varRefreshCmd": "print(var_dic_list())"
    },
    "r": {
     "delete_cmd_postfix": ") ",
     "delete_cmd_prefix": "rm(",
     "library": "var_list.r",
     "varRefreshCmd": "cat(var_dic_list()) "
    }
   },
   "types_to_exclude": [
    "module",
    "function",
    "builtin_function_or_method",
    "instance",
    "_Feature"
   ],
   "window_display": false
  }
 },
 "nbformat": 4,
 "nbformat_minor": 2
}
